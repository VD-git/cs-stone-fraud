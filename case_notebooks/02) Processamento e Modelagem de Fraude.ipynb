{
 "cells": [
  {
   "cell_type": "markdown",
   "metadata": {},
   "source": [
    "# Libraries"
   ]
  },
  {
   "cell_type": "code",
   "execution_count": 1,
   "metadata": {},
   "outputs": [],
   "source": [
    "import pandas as pd\n",
    "import matplotlib.pyplot as plt\n",
    "import seaborn as sns\n",
    "from sklearn.pipeline import Pipeline\n",
    "from sklearn.preprocessing import MinMaxScaler, StandardScaler\n",
    "from sklearn.linear_model import LogisticRegression\n",
    "from imblearn.over_sampling import SMOTE\n",
    "from sklearn.metrics import classification_report, confusion_matrix, recall_score, precision_score, f1_score, accuracy_score\n",
    "from sklearn.ensemble import RandomForestClassifier, GradientBoostingClassifier\n",
    "from imblearn.ensemble import BalancedBaggingClassifier\n",
    "from sklearn.tree import DecisionTreeClassifier\n",
    "from sklearn.utils import resample\n",
    "import random\n",
    "import os\n",
    "import pickle\n",
    "from sklearn.model_selection import train_test_split, GridSearchCV\n",
    "import numpy as np"
   ]
  },
  {
   "cell_type": "markdown",
   "metadata": {},
   "source": [
    "# Functions to Compare the Models"
   ]
  },
  {
   "cell_type": "markdown",
   "metadata": {},
   "source": [
    "- Para a etapa de processamento foi aplicado tanto MinMax quanto StandardScale, sendo essa com mais cara de MinMax para as variável numéricas, já que suas distribuições apresentavam caráter uniforme;\n",
    "- A etapa de pré-processamento de MinMax não afeta a performance em modelagens com árvores, mas essa foi mantida pela regressão logística. "
   ]
  },
  {
   "cell_type": "code",
   "execution_count": 2,
   "metadata": {},
   "outputs": [],
   "source": [
    "def models_evaluation(X_train, X_test, y_train, y_test, balance_bagging=True, weights=True):\n",
    "    \n",
    "    if weights == True:\n",
    "        sample_weights = np.zeros(len(y_train))\n",
    "        sample_weights[y_train == 0] = 1.0\n",
    "        sample_weights[y_train == 1] = len(y_train[y_train == 0])/len(y_train[y_train == 1])\n",
    "    else:\n",
    "        sample_weights = None\n",
    "    \n",
    "    model_pipeline_rfc_mm = Pipeline([('scaler', MinMaxScaler()), ('classifier', RandomForestClassifier())])\n",
    "    model_pipeline_dtc_mm = Pipeline([('scaler', MinMaxScaler()), ('classifier', DecisionTreeClassifier())])\n",
    "    model_pipeline_rfc_std = Pipeline([('scaler', StandardScaler()), ('classifier', RandomForestClassifier())])\n",
    "    model_pipeline_dtc_std = Pipeline([('scaler', StandardScaler()), ('classifier', DecisionTreeClassifier())])\n",
    "    model_pipeline_lg_mm = Pipeline([('scaler', MinMaxScaler()), ('classifier', LogisticRegression())])\n",
    "    model_pipeline_lg_std = Pipeline([('scaler', StandardScaler()), ('classifier', LogisticRegression())])\n",
    "    model_pipeline_gd_mm = Pipeline([('scaler', MinMaxScaler()), ('classifier', GradientBoostingClassifier())])\n",
    "    model_pipeline_gd_std = Pipeline([('scaler', StandardScaler()), ('classifier', GradientBoostingClassifier())])\n",
    "    \n",
    "    model_rfc_mm = model_pipeline_rfc_mm.fit(X_train, y_train, classifier__sample_weight = sample_weights)\n",
    "    model_dtc_mm = model_pipeline_dtc_mm.fit(X_train, y_train, classifier__sample_weight = sample_weights)\n",
    "    model_rfc_std = model_pipeline_rfc_std.fit(X_train, y_train, classifier__sample_weight = sample_weights)\n",
    "    model_dtc_std = model_pipeline_dtc_std.fit(X_train, y_train, classifier__sample_weight = sample_weights)\n",
    "    model_lg_mm = model_pipeline_lg_mm.fit(X_train, y_train, classifier__sample_weight = sample_weights)\n",
    "    model_lg_std = model_pipeline_lg_std.fit(X_train, y_train, classifier__sample_weight = sample_weights)\n",
    "    model_gd_mm = model_pipeline_gd_mm.fit(X_train, y_train, classifier__sample_weight = sample_weights)\n",
    "    model_gd_std = model_pipeline_gd_std.fit(X_train, y_train, classifier__sample_weight = sample_weights)\n",
    "    \n",
    "    \n",
    "    y_pred_rfc_mm = model_rfc_mm.predict(X_test)\n",
    "    y_pred_dtc_mm = model_dtc_mm.predict(X_test)\n",
    "    y_pred_rfc_std = model_rfc_std.predict(X_test)\n",
    "    y_pred_dtc_std = model_dtc_std.predict(X_test)\n",
    "    y_pred_lg_mm = model_lg_mm.predict(X_test)\n",
    "    y_pred_lg_std = model_lg_std.predict(X_test)\n",
    "    y_pred_gd_mm = model_gd_mm.predict(X_test)\n",
    "    y_pred_gd_std = model_gd_std.predict(X_test)\n",
    "    \n",
    "    \n",
    "    f1_rfc_mm = f1_score(y_test, y_pred_rfc_mm)\n",
    "    f1_rfc_std = f1_score(y_test, y_pred_rfc_std)\n",
    "    f1_dtc_mm = f1_score(y_test, y_pred_dtc_mm)\n",
    "    f1_dtc_std = f1_score(y_test, y_pred_dtc_std)\n",
    "    f1_lg_mm = f1_score(y_test, y_pred_lg_mm)\n",
    "    f1_lg_std = f1_score(y_test, y_pred_lg_std)\n",
    "    f1_gd_mm = f1_score(y_test, y_pred_gd_mm)\n",
    "    f1_gd_std = f1_score(y_test, y_pred_gd_std)\n",
    "    \n",
    "    if balance_bagging == False:\n",
    "        return {'rfc_mm':f1_rfc_mm, 'dtc_mm':f1_dtc_mm, 'lg_mm':f1_lg_mm, 'gd_mm':f1_gd_mm,\n",
    "                'rfc_std':f1_rfc_std, 'dtc_std':f1_dtc_std, 'lg_std':f1_lg_std, 'gd_std':f1_gd_std}\n",
    "    else:\n",
    "        model_pipeline_bb_gd_mm = Pipeline([('scaler', MinMaxScaler()),\n",
    "                                         ('classifier', BalancedBaggingClassifier(\n",
    "                                             base_estimator=GradientBoostingClassifier(),\n",
    "                                             sampling_strategy='not majority',\n",
    "                                             replacement=False,\n",
    "                                             random_state=42))])\n",
    "\n",
    "        model_pipeline_bb_gd_std = Pipeline([('scaler', StandardScaler()),\n",
    "                                         ('classifier', BalancedBaggingClassifier(\n",
    "                                             base_estimator=GradientBoostingClassifier(),\n",
    "                                             sampling_strategy='not majority',\n",
    "                                             replacement=False,\n",
    "                                             random_state=42))])\n",
    "\n",
    "        model_bb_gd_mm = model_pipeline_bb_gd_mm.fit(X_train, y_train)\n",
    "        model_bb_gd_std = model_pipeline_bb_gd_std.fit(X_train, y_train)\n",
    "\n",
    "        y_pred_bb_gd_mm = model_bb_gd_mm.predict(X_test)\n",
    "        y_pred_bb_gd_std = model_bb_gd_std.predict(X_test)\n",
    "\n",
    "        f1_bb_gd_mm = f1_score(y_test, y_pred_bb_gd_mm)\n",
    "        f1_bb_gd_std = f1_score(y_test, y_pred_bb_gd_std)\n",
    "        return {'rfc_mm':f1_rfc_mm, 'dtc_mm':f1_dtc_mm, 'lg_mm':f1_lg_mm, 'gd_mm':f1_gd_mm, 'bb_gd_mm':f1_bb_gd_mm,\n",
    "                'rfc_std':f1_rfc_std, 'dtc_std':f1_dtc_std, 'lg_std':f1_lg_std, 'gd_std':f1_gd_std, 'bb_gd_std':f1_bb_gd_std}"
   ]
  },
  {
   "cell_type": "code",
   "execution_count": 3,
   "metadata": {},
   "outputs": [],
   "source": [
    "def change_threshold(X, threshold):\n",
    "    return X.apply(lambda x: 1 if x>=threshold else 0)"
   ]
  },
  {
   "cell_type": "code",
   "execution_count": 4,
   "metadata": {},
   "outputs": [],
   "source": [
    "def precision_recall_table(y_train, y_pred_prob, step = 0.01):\n",
    "    cutoffs = np.arange(step,1,step)\n",
    "    \n",
    "    precision = []\n",
    "    recall = []\n",
    "    accuracy = []\n",
    "    f1 = []\n",
    "    step = []\n",
    "    for i in cutoffs:\n",
    "        \n",
    "        y_pred_threshold = change_threshold(y_pred_prob, i)\n",
    "        \n",
    "        precision.append(precision_score(y_train, y_pred_threshold))\n",
    "        recall.append(recall_score(y_train, y_pred_threshold))\n",
    "        accuracy.append(accuracy_score(y_train, y_pred_threshold))\n",
    "        f1.append(f1_score(y_train, y_pred_threshold))\n",
    "        \n",
    "        step.append(i)\n",
    "    return {'step': step, 'precision': precision, 'recall': recall, 'accuracy': accuracy, 'f1':f1}"
   ]
  },
  {
   "cell_type": "markdown",
   "metadata": {},
   "source": [
    "# Importing Database"
   ]
  },
  {
   "cell_type": "code",
   "execution_count": 5,
   "metadata": {},
   "outputs": [],
   "source": [
    "df = pd.read_csv(\"https://raw.githubusercontent.com/VD-git/cs-stone-fraud/main/source/dados.csv?token=GHSAT0AAAAAABRQJA2MOQECD4RL3FLMAARGYQH6JRA\")\n",
    "df.loc[:, \"id_subestacao\"] = df.loc[:, \"id_subestacao\"].astype('object')"
   ]
  },
  {
   "cell_type": "markdown",
   "metadata": {},
   "source": [
    "# Transforming into a numerical DB"
   ]
  },
  {
   "cell_type": "code",
   "execution_count": 6,
   "metadata": {},
   "outputs": [],
   "source": [
    "categorical_columns = [i for i,j in zip(df.columns, df.dtypes) if j == 'object']\n",
    "numerical_columns = [i for i,j in zip(df.columns, df.dtypes) if j == 'int64']"
   ]
  },
  {
   "cell_type": "code",
   "execution_count": 7,
   "metadata": {},
   "outputs": [],
   "source": [
    "df_dummies = pd.get_dummies(df[categorical_columns[1:]],prefix=categorical_columns[1:], columns = categorical_columns[1:], drop_first = False)\n",
    "df_final = pd.concat([df_dummies, df[numerical_columns]], axis = 1).drop('classe_cliente_normal', axis = 1)"
   ]
  },
  {
   "cell_type": "code",
   "execution_count": 8,
   "metadata": {},
   "outputs": [],
   "source": [
    "X = df_final.drop([\"classe_cliente_fraudador\"], axis = 1)\n",
    "y = df_final['classe_cliente_fraudador']"
   ]
  },
  {
   "cell_type": "markdown",
   "metadata": {},
   "source": [
    "# Pela base ser desbalanceada, foram avaliadas algumas medidas para ver qual retornava o melhor resultado para realizar o posterior tuning do modelo"
   ]
  },
  {
   "cell_type": "markdown",
   "metadata": {},
   "source": [
    "- Avaliação sem nenhum tratamente para ter um benchmark;\n",
    "- Aplicação de sample_weights para dar pesos diferentes para fraudadores e pesar mais esses dados. A aplicação dos pesos foi feita por meio da relação com que os dados estavam desbalanceados, como é colocado na função 'models_evaluation()';\n",
    "- Uso de Oversampling com SMOTE e resample;\n",
    "- Uso de Undersampling tirando um sample de mesmo tamanho da base de não fraudadores."
   ]
  },
  {
   "cell_type": "markdown",
   "metadata": {},
   "source": [
    "# Teste 1: Sem Tuning dos parâmetros e manuseio da DB (Benchmark)"
   ]
  },
  {
   "cell_type": "code",
   "execution_count": 9,
   "metadata": {},
   "outputs": [],
   "source": [
    "X_train, X_test, y_train, y_test = train_test_split(X, y, test_size = 0.20, random_state = 42, stratify = y)"
   ]
  },
  {
   "cell_type": "code",
   "execution_count": 10,
   "metadata": {},
   "outputs": [
    {
     "data": {
      "text/plain": [
       "{'rfc_mm': 0.3996889580093313,\n",
       " 'dtc_mm': 0.3129810159055926,\n",
       " 'lg_mm': 0.07462686567164178,\n",
       " 'gd_mm': 0.4295652173913043,\n",
       " 'rfc_std': 0.40062111801242234,\n",
       " 'dtc_std': 0.3090439276485788,\n",
       " 'lg_std': 0.07462686567164178,\n",
       " 'gd_std': 0.4295652173913043}"
      ]
     },
     "execution_count": 10,
     "metadata": {},
     "output_type": "execute_result"
    }
   ],
   "source": [
    "models_evaluation(X_train, X_test, y_train, y_test, balance_bagging=False, weights=False)"
   ]
  },
  {
   "cell_type": "markdown",
   "metadata": {},
   "source": [
    "# Teste 2: Sem Tuning dos parâmetros e com manuseio da DB"
   ]
  },
  {
   "cell_type": "markdown",
   "metadata": {},
   "source": [
    "- Aplicando Weight"
   ]
  },
  {
   "cell_type": "code",
   "execution_count": 11,
   "metadata": {},
   "outputs": [
    {
     "data": {
      "text/plain": [
       "{'rfc_mm': 0.4,\n",
       " 'dtc_mm': 0.3017429193899782,\n",
       " 'lg_mm': 0.16429072213133908,\n",
       " 'gd_mm': 0.1909427966101695,\n",
       " 'rfc_std': 0.39874902267396406,\n",
       " 'dtc_std': 0.3002183406113537,\n",
       " 'lg_std': 0.16425233644859816,\n",
       " 'gd_std': 0.1909427966101695}"
      ]
     },
     "execution_count": 11,
     "metadata": {},
     "output_type": "execute_result"
    }
   ],
   "source": [
    "models_evaluation(X_train, X_test, y_train, y_test, balance_bagging=False, weights=True)"
   ]
  },
  {
   "cell_type": "markdown",
   "metadata": {},
   "source": [
    "- Oversampling (SMOTE)"
   ]
  },
  {
   "cell_type": "code",
   "execution_count": 12,
   "metadata": {},
   "outputs": [],
   "source": [
    "X_resampled, Y_resampled = SMOTE(random_state = 42).fit_resample(X_train, y_train)"
   ]
  },
  {
   "cell_type": "code",
   "execution_count": 13,
   "metadata": {},
   "outputs": [
    {
     "data": {
      "text/plain": [
       "{'rfc_mm': 0.37218543046357616,\n",
       " 'dtc_mm': 0.3049974240082432,\n",
       " 'lg_mm': 0.2533936651583711,\n",
       " 'gd_mm': 0.3845036319612591,\n",
       " 'rfc_std': 0.3712574850299402,\n",
       " 'dtc_std': 0.30368098159509205,\n",
       " 'lg_std': 0.25316455696202533,\n",
       " 'gd_std': 0.3845036319612591}"
      ]
     },
     "execution_count": 13,
     "metadata": {},
     "output_type": "execute_result"
    }
   ],
   "source": [
    "models_evaluation(X_resampled, X_test, Y_resampled, y_test, balance_bagging=False, weights=False)"
   ]
  },
  {
   "cell_type": "markdown",
   "metadata": {},
   "source": [
    "- Oversampling (resample)"
   ]
  },
  {
   "cell_type": "code",
   "execution_count": 14,
   "metadata": {},
   "outputs": [],
   "source": [
    "Xy_train = pd.concat([X_train, y_train], axis = 1)\n",
    "Xy_train_fraud = Xy_train[Xy_train['classe_cliente_fraudador'] == 1]\n",
    "Xy_train_non_fraud = Xy_train[Xy_train['classe_cliente_fraudador'] == 0]\n",
    "Xy_train_fraud_upsample = resample(Xy_train_fraud, replace=True, n_samples= len(Xy_train_non_fraud), random_state = 42)"
   ]
  },
  {
   "cell_type": "code",
   "execution_count": 15,
   "metadata": {},
   "outputs": [],
   "source": [
    "Xy_train_oversampling = pd.concat([Xy_train_fraud_upsample,Xy_train_non_fraud], axis=0, ignore_index=True).sample(len(Xy_train_fraud_upsample)*2)"
   ]
  },
  {
   "cell_type": "code",
   "execution_count": 16,
   "metadata": {},
   "outputs": [],
   "source": [
    "X_train_oversampling = Xy_train_oversampling.drop(\"classe_cliente_fraudador\", axis = 1)\n",
    "y_train_oversampling = Xy_train_oversampling[\"classe_cliente_fraudador\"]"
   ]
  },
  {
   "cell_type": "code",
   "execution_count": 17,
   "metadata": {},
   "outputs": [
    {
     "data": {
      "text/plain": [
       "{'rfc_mm': 0.35485975212002613,\n",
       " 'dtc_mm': 0.3084468664850136,\n",
       " 'lg_mm': 0.16426816426816426,\n",
       " 'gd_mm': 0.1908790482485129,\n",
       " 'rfc_std': 0.35456336178594877,\n",
       " 'dtc_std': 0.31417624521072796,\n",
       " 'lg_std': 0.16426816426816426,\n",
       " 'gd_std': 0.1908790482485129}"
      ]
     },
     "execution_count": 17,
     "metadata": {},
     "output_type": "execute_result"
    }
   ],
   "source": [
    "models_evaluation(X_train_oversampling, X_test, y_train_oversampling, y_test, balance_bagging=False, weights=False)"
   ]
  },
  {
   "cell_type": "markdown",
   "metadata": {},
   "source": [
    "- Undersampling"
   ]
  },
  {
   "cell_type": "code",
   "execution_count": 18,
   "metadata": {},
   "outputs": [],
   "source": [
    "Xy_train = pd.concat([X_train, y_train], axis = 1)\n",
    "Xy_train_fraud = Xy_train[Xy_train['classe_cliente_fraudador'] == 1]\n",
    "Xy_train_non_fraud = Xy_train[Xy_train['classe_cliente_fraudador'] == 0].sample(len(Xy_train[Xy_train['classe_cliente_fraudador'] == 1]))\n",
    "Xy_train_undersamplig = pd.concat([Xy_train_fraud,Xy_train_non_fraud], axis=0, ignore_index=True).sample(len(Xy_train_fraud)*2)"
   ]
  },
  {
   "cell_type": "code",
   "execution_count": 19,
   "metadata": {},
   "outputs": [],
   "source": [
    "X_train_undersamplig = Xy_train_undersamplig.drop(\"classe_cliente_fraudador\", axis = 1)\n",
    "y_train_undersamplig = Xy_train_undersamplig[\"classe_cliente_fraudador\"]"
   ]
  },
  {
   "cell_type": "code",
   "execution_count": 20,
   "metadata": {},
   "outputs": [
    {
     "data": {
      "text/plain": [
       "{'rfc_mm': 0.1627715795654727,\n",
       " 'dtc_mm': 0.13209302325581396,\n",
       " 'lg_mm': 0.16383781235266384,\n",
       " 'gd_mm': 0.18876816337216915,\n",
       " 'rfc_std': 0.1641013497513616,\n",
       " 'dtc_std': 0.13125512715340443,\n",
       " 'lg_std': 0.1633133309801153,\n",
       " 'gd_std': 0.18879287771667974}"
      ]
     },
     "execution_count": 20,
     "metadata": {},
     "output_type": "execute_result"
    }
   ],
   "source": [
    "models_evaluation(X_train_undersamplig, X_test, y_train_undersamplig, y_test, balance_bagging=False, weights=False)"
   ]
  },
  {
   "cell_type": "markdown",
   "metadata": {},
   "source": [
    "Feitas as avaliações, viu que a nenhuma das aplicações técnicas foram promissoras no caso de árvores, já no caso de logistic regression, foi a de Oversampling com SMOTE. No entanto, o melhor resultado foi obtido para uma árvore com boosting, sendo essa a mantida."
   ]
  },
  {
   "cell_type": "markdown",
   "metadata": {},
   "source": [
    "# Tuning"
   ]
  },
  {
   "cell_type": "markdown",
   "metadata": {},
   "source": [
    "Pelo fato de ser uma árvore e o pré-processamento por StandardScale fornecer o mesmo f1_score que por MinMax, não faz sentido manter essa etapa, ela só irá gastar memória, visto como é o funcionamento de segregação em árvores."
   ]
  },
  {
   "cell_type": "code",
   "execution_count": 21,
   "metadata": {},
   "outputs": [],
   "source": [
    "GBC_raw = GradientBoostingClassifier().fit(X_train, y_train)"
   ]
  },
  {
   "cell_type": "code",
   "execution_count": 22,
   "metadata": {},
   "outputs": [],
   "source": [
    "y_pred = GBC_raw.predict(X_test)"
   ]
  },
  {
   "cell_type": "code",
   "execution_count": 23,
   "metadata": {},
   "outputs": [
    {
     "data": {
      "text/plain": [
       "0.4295652173913043"
      ]
     },
     "execution_count": 23,
     "metadata": {},
     "output_type": "execute_result"
    }
   ],
   "source": [
    "f1_score(y_test, y_pred)"
   ]
  },
  {
   "cell_type": "markdown",
   "metadata": {},
   "source": [
    "- Para a etapa de tuning dos hiperparâmetros foi usado o GridSearchCV com foco na métrica de f1 para pesar tanto a precisão quanto a recall. Tento em mente que a acurácia pode ser uma métrica alvo falha para se ter devido à desproporção dos dados."
   ]
  },
  {
   "cell_type": "code",
   "execution_count": 24,
   "metadata": {},
   "outputs": [],
   "source": [
    "parameters = {\n",
    "    'n_estimators': np.linspace(100, 300, num = 3, dtype='int16'),\n",
    "    'max_depth': np.linspace(4, 6, num = 3, dtype='int16'),\n",
    "    'max_features': ['auto'],\n",
    "    'min_samples_leaf': np.linspace(100, 300, num = 3, dtype='int16')\n",
    "}"
   ]
  },
  {
   "cell_type": "code",
   "execution_count": 25,
   "metadata": {},
   "outputs": [],
   "source": [
    "grid_search_model = GridSearchCV(estimator=GradientBoostingClassifier(), param_grid=parameters,\n",
    "                                 cv=3, verbose=1, n_jobs=-1, scoring='f1')"
   ]
  },
  {
   "cell_type": "code",
   "execution_count": 26,
   "metadata": {},
   "outputs": [
    {
     "name": "stdout",
     "output_type": "stream",
     "text": [
      "Fitting 3 folds for each of 27 candidates, totalling 81 fits\n"
     ]
    },
    {
     "name": "stderr",
     "output_type": "stream",
     "text": [
      "[Parallel(n_jobs=-1)]: Using backend LokyBackend with 4 concurrent workers.\n",
      "[Parallel(n_jobs=-1)]: Done  42 tasks      | elapsed:  9.6min\n",
      "[Parallel(n_jobs=-1)]: Done  81 out of  81 | elapsed: 20.4min finished\n"
     ]
    },
    {
     "data": {
      "text/plain": [
       "GridSearchCV(cv=3, estimator=GradientBoostingClassifier(), n_jobs=-1,\n",
       "             param_grid={'max_depth': array([4, 5, 6], dtype=int16),\n",
       "                         'max_features': ['auto'],\n",
       "                         'min_samples_leaf': array([100, 200, 300], dtype=int16),\n",
       "                         'n_estimators': array([100, 200, 300], dtype=int16)},\n",
       "             scoring='f1', verbose=1)"
      ]
     },
     "execution_count": 26,
     "metadata": {},
     "output_type": "execute_result"
    }
   ],
   "source": [
    "grid_search_model.fit(X_train, y_train)"
   ]
  },
  {
   "cell_type": "code",
   "execution_count": 27,
   "metadata": {},
   "outputs": [
    {
     "data": {
      "text/plain": [
       "{'max_depth': 5,\n",
       " 'max_features': 'auto',\n",
       " 'min_samples_leaf': 200,\n",
       " 'n_estimators': 300}"
      ]
     },
     "execution_count": 27,
     "metadata": {},
     "output_type": "execute_result"
    }
   ],
   "source": [
    "grid_search_model.best_params_"
   ]
  },
  {
   "cell_type": "markdown",
   "metadata": {},
   "source": [
    "Com o n_estimator ficou travado no limite na grid fornecida anteriormente, será feita uma nova avaliação com ele apenas"
   ]
  },
  {
   "cell_type": "code",
   "execution_count": 28,
   "metadata": {},
   "outputs": [],
   "source": [
    "grid_search_model = GridSearchCV(estimator=GradientBoostingClassifier(max_depth = 5,\n",
    "                                                                      max_features = 'auto',\n",
    "                                                                      min_samples_leaf = 200),\n",
    "                                 param_grid={'n_estimators': np.linspace(300, 1000, num = 8, dtype='int16')},\n",
    "                                 cv=3, verbose=1, n_jobs=-1, scoring='f1')"
   ]
  },
  {
   "cell_type": "code",
   "execution_count": 29,
   "metadata": {},
   "outputs": [
    {
     "name": "stdout",
     "output_type": "stream",
     "text": [
      "Fitting 3 folds for each of 8 candidates, totalling 24 fits\n"
     ]
    },
    {
     "name": "stderr",
     "output_type": "stream",
     "text": [
      "[Parallel(n_jobs=-1)]: Using backend LokyBackend with 4 concurrent workers.\n",
      "[Parallel(n_jobs=-1)]: Done  24 out of  24 | elapsed: 21.6min finished\n"
     ]
    },
    {
     "data": {
      "text/plain": [
       "GridSearchCV(cv=3,\n",
       "             estimator=GradientBoostingClassifier(max_depth=5,\n",
       "                                                  max_features='auto',\n",
       "                                                  min_samples_leaf=200),\n",
       "             n_jobs=-1,\n",
       "             param_grid={'n_estimators': array([ 300,  400,  500,  600,  700,  800,  900, 1000], dtype=int16)},\n",
       "             scoring='f1', verbose=1)"
      ]
     },
     "execution_count": 29,
     "metadata": {},
     "output_type": "execute_result"
    }
   ],
   "source": [
    "grid_search_model.fit(X_train, y_train)"
   ]
  },
  {
   "cell_type": "code",
   "execution_count": 30,
   "metadata": {},
   "outputs": [
    {
     "data": {
      "text/plain": [
       "{'n_estimators': 300}"
      ]
     },
     "execution_count": 30,
     "metadata": {},
     "output_type": "execute_result"
    }
   ],
   "source": [
    "grid_search_model.best_params_"
   ]
  },
  {
   "cell_type": "markdown",
   "metadata": {},
   "source": [
    "- Realizado o GridSearchCV é possível realizar o treino do modelo com os melhores parâmetros."
   ]
  },
  {
   "cell_type": "code",
   "execution_count": 31,
   "metadata": {},
   "outputs": [],
   "source": [
    "GBC = GradientBoostingClassifier(max_depth = 5, max_features = 'auto', min_samples_leaf = 200, n_estimators = 300)"
   ]
  },
  {
   "cell_type": "code",
   "execution_count": 32,
   "metadata": {},
   "outputs": [
    {
     "data": {
      "text/plain": [
       "GradientBoostingClassifier(max_depth=5, max_features='auto',\n",
       "                           min_samples_leaf=200, n_estimators=300)"
      ]
     },
     "execution_count": 32,
     "metadata": {},
     "output_type": "execute_result"
    }
   ],
   "source": [
    "GBC.fit(X_train, y_train)"
   ]
  },
  {
   "cell_type": "code",
   "execution_count": 33,
   "metadata": {},
   "outputs": [],
   "source": [
    "y_pred = GBC.predict(X_test)"
   ]
  },
  {
   "cell_type": "code",
   "execution_count": 34,
   "metadata": {},
   "outputs": [
    {
     "data": {
      "text/plain": [
       "0.4295652173913043"
      ]
     },
     "execution_count": 34,
     "metadata": {},
     "output_type": "execute_result"
    }
   ],
   "source": [
    "f1_score(y_test, y_pred)"
   ]
  },
  {
   "cell_type": "code",
   "execution_count": 35,
   "metadata": {},
   "outputs": [
    {
     "name": "stdout",
     "output_type": "stream",
     "text": [
      "              precision    recall  f1-score   support\n",
      "\n",
      "           0       0.98      1.00      0.99     29097\n",
      "           1       1.00      0.27      0.43       903\n",
      "\n",
      "    accuracy                           0.98     30000\n",
      "   macro avg       0.99      0.64      0.71     30000\n",
      "weighted avg       0.98      0.98      0.97     30000\n",
      "\n"
     ]
    }
   ],
   "source": [
    "print(classification_report(y_test, y_pred))"
   ]
  },
  {
   "cell_type": "markdown",
   "metadata": {},
   "source": [
    "- Mesmo com o tuning dos hiperparâmetros, foi visto que não houve uma melhor significativa do valor de f1 score, além de apresentar um recall relativamente baixo, deixando passar muitos fraudadores, para isso o que será feito agora é uma reavaliação do threshold de classificação, até então o padrão de 50 %."
   ]
  },
  {
   "cell_type": "code",
   "execution_count": 36,
   "metadata": {},
   "outputs": [],
   "source": [
    "y_pred_prob = pd.DataFrame(GBC.predict_proba(X_train)).iloc[:,1]"
   ]
  },
  {
   "cell_type": "code",
   "execution_count": 37,
   "metadata": {},
   "outputs": [],
   "source": [
    "y_train_prob = pd.DataFrame(GBC.predict_proba(X_train)).iloc[:,1]\n",
    "y_train_real = pd.DataFrame(y_train.values)[0]\n",
    "y_train_prob_real = pd.concat([y_train_prob, y_train_real], axis = 1).rename(columns={0: \"real\", 1: \"predicted\"})"
   ]
  },
  {
   "cell_type": "code",
   "execution_count": 38,
   "metadata": {},
   "outputs": [],
   "source": [
    "report_fraud = pd.DataFrame(precision_recall_table(y_train_prob_real['real'], y_train_prob_real['predicted']))"
   ]
  },
  {
   "cell_type": "code",
   "execution_count": 39,
   "metadata": {},
   "outputs": [
    {
     "data": {
      "text/html": [
       "<div>\n",
       "<style scoped>\n",
       "    .dataframe tbody tr th:only-of-type {\n",
       "        vertical-align: middle;\n",
       "    }\n",
       "\n",
       "    .dataframe tbody tr th {\n",
       "        vertical-align: top;\n",
       "    }\n",
       "\n",
       "    .dataframe thead th {\n",
       "        text-align: right;\n",
       "    }\n",
       "</style>\n",
       "<table border=\"1\" class=\"dataframe\">\n",
       "  <thead>\n",
       "    <tr style=\"text-align: right;\">\n",
       "      <th></th>\n",
       "      <th>step</th>\n",
       "      <th>precision</th>\n",
       "      <th>recall</th>\n",
       "      <th>accuracy</th>\n",
       "      <th>f1</th>\n",
       "    </tr>\n",
       "  </thead>\n",
       "  <tbody>\n",
       "    <tr>\n",
       "      <td>0</td>\n",
       "      <td>0.01</td>\n",
       "      <td>0.064044</td>\n",
       "      <td>0.973990</td>\n",
       "      <td>0.570533</td>\n",
       "      <td>0.120186</td>\n",
       "    </tr>\n",
       "    <tr>\n",
       "      <td>1</td>\n",
       "      <td>0.02</td>\n",
       "      <td>0.089239</td>\n",
       "      <td>0.926121</td>\n",
       "      <td>0.713117</td>\n",
       "      <td>0.162792</td>\n",
       "    </tr>\n",
       "    <tr>\n",
       "      <td>2</td>\n",
       "      <td>0.03</td>\n",
       "      <td>0.116105</td>\n",
       "      <td>0.869120</td>\n",
       "      <td>0.796792</td>\n",
       "      <td>0.204846</td>\n",
       "    </tr>\n",
       "    <tr>\n",
       "      <td>3</td>\n",
       "      <td>0.04</td>\n",
       "      <td>0.139775</td>\n",
       "      <td>0.808522</td>\n",
       "      <td>0.844375</td>\n",
       "      <td>0.238346</td>\n",
       "    </tr>\n",
       "    <tr>\n",
       "      <td>4</td>\n",
       "      <td>0.05</td>\n",
       "      <td>0.165866</td>\n",
       "      <td>0.764250</td>\n",
       "      <td>0.877150</td>\n",
       "      <td>0.272575</td>\n",
       "    </tr>\n",
       "  </tbody>\n",
       "</table>\n",
       "</div>"
      ],
      "text/plain": [
       "   step  precision    recall  accuracy        f1\n",
       "0  0.01   0.064044  0.973990  0.570533  0.120186\n",
       "1  0.02   0.089239  0.926121  0.713117  0.162792\n",
       "2  0.03   0.116105  0.869120  0.796792  0.204846\n",
       "3  0.04   0.139775  0.808522  0.844375  0.238346\n",
       "4  0.05   0.165866  0.764250  0.877150  0.272575"
      ]
     },
     "execution_count": 39,
     "metadata": {},
     "output_type": "execute_result"
    }
   ],
   "source": [
    "report_fraud.head()"
   ]
  },
  {
   "cell_type": "code",
   "execution_count": 40,
   "metadata": {},
   "outputs": [
    {
     "data": {
      "text/html": [
       "<div>\n",
       "<style scoped>\n",
       "    .dataframe tbody tr th:only-of-type {\n",
       "        vertical-align: middle;\n",
       "    }\n",
       "\n",
       "    .dataframe tbody tr th {\n",
       "        vertical-align: top;\n",
       "    }\n",
       "\n",
       "    .dataframe thead th {\n",
       "        text-align: right;\n",
       "    }\n",
       "</style>\n",
       "<table border=\"1\" class=\"dataframe\">\n",
       "  <thead>\n",
       "    <tr style=\"text-align: right;\">\n",
       "      <th></th>\n",
       "      <th>step</th>\n",
       "      <th>precision</th>\n",
       "      <th>recall</th>\n",
       "      <th>accuracy</th>\n",
       "      <th>f1</th>\n",
       "    </tr>\n",
       "  </thead>\n",
       "  <tbody>\n",
       "    <tr>\n",
       "      <td>18</td>\n",
       "      <td>0.19</td>\n",
       "      <td>0.728956</td>\n",
       "      <td>0.359436</td>\n",
       "      <td>0.976683</td>\n",
       "      <td>0.481468</td>\n",
       "    </tr>\n",
       "  </tbody>\n",
       "</table>\n",
       "</div>"
      ],
      "text/plain": [
       "    step  precision    recall  accuracy        f1\n",
       "18  0.19   0.728956  0.359436  0.976683  0.481468"
      ]
     },
     "execution_count": 40,
     "metadata": {},
     "output_type": "execute_result"
    }
   ],
   "source": [
    "threshold = report_fraud[report_fraud['f1'] == report_fraud['f1'].max()]['step'].values[0]\n",
    "report_fraud[report_fraud['step'] == threshold]"
   ]
  },
  {
   "cell_type": "code",
   "execution_count": 41,
   "metadata": {},
   "outputs": [
    {
     "data": {
      "text/plain": [
       "<matplotlib.axes._subplots.AxesSubplot at 0x184112b14c8>"
      ]
     },
     "execution_count": 41,
     "metadata": {},
     "output_type": "execute_result"
    },
    {
     "data": {
      "image/png": "[encoded data removed]",
      "text/plain": [
       "<Figure size 1152x288 with 2 Axes>"
      ]
     },
     "metadata": {
      "needs_background": "light"
     },
     "output_type": "display_data"
    }
   ],
   "source": [
    "fig, axs = plt.subplots(1,2)\n",
    "fig.set_figwidth(16)\n",
    "sns.lineplot(y = report_fraud['precision'], x = report_fraud['step'], ax=axs[0], legend=True)\n",
    "sns.lineplot(y = report_fraud['recall'], x = report_fraud['step'], ax=axs[0], legend=True)\n",
    "axs[0].legend(['precision', 'recall'])\n",
    "axs[0].set_ylabel('value')\n",
    "sns.lineplot(y = report_fraud['f1'], x = report_fraud['step'], ax=axs[1])"
   ]
  },
  {
   "cell_type": "code",
   "execution_count": 42,
   "metadata": {},
   "outputs": [
    {
     "name": "stdout",
     "output_type": "stream",
     "text": [
      "              precision    recall  f1-score   support\n",
      "\n",
      "           0       0.98      1.00      0.99    116386\n",
      "           1       1.00      0.29      0.45      3614\n",
      "\n",
      "    accuracy                           0.98    120000\n",
      "   macro avg       0.99      0.64      0.72    120000\n",
      "weighted avg       0.98      0.98      0.97    120000\n",
      "\n"
     ]
    }
   ],
   "source": [
    "print(classification_report(y_train, change_threshold(y_pred_prob, 0.50)))"
   ]
  },
  {
   "cell_type": "code",
   "execution_count": 43,
   "metadata": {},
   "outputs": [
    {
     "name": "stdout",
     "output_type": "stream",
     "text": [
      "              precision    recall  f1-score   support\n",
      "\n",
      "           0       0.98      1.00      0.99    116386\n",
      "           1       0.73      0.36      0.48      3614\n",
      "\n",
      "    accuracy                           0.98    120000\n",
      "   macro avg       0.85      0.68      0.73    120000\n",
      "weighted avg       0.97      0.98      0.97    120000\n",
      "\n"
     ]
    }
   ],
   "source": [
    "print(classification_report(y_train, change_threshold(y_pred_prob, threshold)))"
   ]
  },
  {
   "cell_type": "markdown",
   "metadata": {},
   "source": [
    "- Fazendo a alteração de threshold é possível visualizar uma melhora na performance de f1 score, equilibrando precision e recall;\n",
    "- Algo que pode ser revisto pela equipe de negócios, se for interessante para eles, é a mudança de threshold a fim de ter um maior recall de fraudadores. Sempre tendo em mente que baixar o threshold aumenta o recall, mas diminui a precisão (na qual eu declaro fraudadores, clients que não são fraudadores)."
   ]
  },
  {
   "cell_type": "markdown",
   "metadata": {},
   "source": [
    "# Saving the model"
   ]
  },
  {
   "cell_type": "code",
   "execution_count": 44,
   "metadata": {},
   "outputs": [],
   "source": [
    "os.chdir('C:\\\\Users\\\\VICTOR\\\\Desktop')\n",
    "filename = 'fraud_model.sav'\n",
    "pickle.dump(GBC, open(filename, 'wb'))"
   ]
  }
 ],
 "metadata": {
  "kernelspec": {
   "display_name": "Python 3",
   "language": "python",
   "name": "python3"
  },
  "language_info": {
   "codemirror_mode": {
    "name": "ipython",
    "version": 3
   },
   "file_extension": ".py",
   "mimetype": "text/x-python",
   "name": "python",
   "nbconvert_exporter": "python",
   "pygments_lexer": "ipython3",
   "version": "3.7.4"
  }
 },
 "nbformat": 4,
 "nbformat_minor": 2
}
